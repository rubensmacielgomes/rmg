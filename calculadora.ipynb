{
 "cells": [
  {
   "cell_type": "code",
   "execution_count": 1,
   "metadata": {},
   "outputs": [
    {
     "name": "stdout",
     "output_type": "stream",
     "text": [
      "Escolha uma operação: \n",
      " 1 - Adição \n",
      " 2 - Subtração \n",
      " 3 - Multiplicação \n",
      " 4 - Divisão\n",
      "Resultado:  5.0\n"
     ]
    }
   ],
   "source": [
    "def add(x, y):\n",
    "    return x + y\n",
    "\n",
    "def subtract(x, y):\n",
    "    return x - y\n",
    "\n",
    "def multiply(x, y):\n",
    "    return x * y\n",
    "\n",
    "def divide(x, y):\n",
    "    if y == 0:\n",
    "        return \"Erro! Divisão por zero.\"\n",
    "    else:\n",
    "        return x / y\n",
    "\n",
    "print(\"Escolha uma operação: \\n 1 - Adição \\n 2 - Subtração \\n 3 - Multiplicação \\n 4 - Divisão\")\n",
    "\n",
    "option = input(\"Digite o número da operação: \")\n",
    "\n",
    "num1 = float(input(\"Digite o primeiro número: \"))\n",
    "num2 = float(input(\"Digite o segundo número: \"))\n",
    "\n",
    "if option == '1':\n",
    "    print(\"Resultado: \", add(num1, num2))\n",
    "elif option == '2':\n",
    "    print(\"Resultado: \", subtract(num1, num2))\n",
    "elif option == '3':\n",
    "    print(\"Resultado: \", multiply(num1, num2))\n",
    "elif option == '4':\n",
    "    print(\"Resultado: \", divide(num1, num2))\n",
    "else:\n",
    "    print(\"Opção inválida.\")"
   ]
  }
 ],
 "metadata": {
  "kernelspec": {
   "display_name": "Python 3",
   "language": "python",
   "name": "python3"
  },
  "language_info": {
   "codemirror_mode": {
    "name": "ipython",
    "version": 3
   },
   "file_extension": ".py",
   "mimetype": "text/x-python",
   "name": "python",
   "nbconvert_exporter": "python",
   "pygments_lexer": "ipython3",
   "version": "3.10.12"
  }
 },
 "nbformat": 4,
 "nbformat_minor": 2
}
