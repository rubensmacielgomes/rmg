{
 "cells": [
  {
   "cell_type": "code",
   "execution_count": 8,
   "metadata": {},
   "outputs": [
    {
     "name": "stdout",
     "output_type": "stream",
     "text": [
      "QUINA\n",
      "Números sorteados: 22 26 42 47 79\n",
      "Número do Jogo: 6277\n",
      "Data do Jogo: 27/10/2023\n",
      "Número de ganhadores 5 dezenas: 0\n",
      "Valor do prêmio R$: 0.0\n",
      "Número de ganhadores 4 dezenas: 25\n",
      "Valor do prêmio R$: 10470.4\n",
      "Número de ganhadores 3 dezenas: 2412\n",
      "Valor do prêmio R$: 103.35\n",
      "Número de ganhadores 2 dezenas: 64245\n",
      "Valor do prêmio R$: 3.88\n",
      "Valor estimado para o próximo prêmio R$: 1300000.0\n",
      "Dezenas que acertei no jogo da quina: {'22'}\n",
      "Quantidade de dezenas acertadas no jogo da quina: 1 Dezenas\n"
     ]
    }
   ],
   "source": [
    "import requests\n",
    "headers = {'user-agent': 'Mozilla/5.0 (Windows NT 10.0; Win64; x64) AppleWebKit/537.36 (KHTML, like Gecko) Chrome/86.0.4240.183 Safari/537.36'}\n",
    "\n",
    "import urllib3\n",
    "urllib3.disable_warnings()\n",
    "\n",
    "r = requests.get('https://servicebus2.caixa.gov.br/portaldeloterias/api/quina', headers=headers, verify=False)\n",
    "\n",
    "##################### Pegando o texto dentro do código completo da página ####################\n",
    "meuHTML = str(r.content)\n",
    "posInicial = meuHTML.find('listaDezenas') + 31\n",
    "posFinal = meuHTML.find(']', posInicial) + 1\n",
    "\n",
    "Numeros = meuHTML[posInicial:posFinal]\n",
    "#print(Numeros)\n",
    "\n",
    "##################### Usando o formato JSON ##################################################\n",
    "import json\n",
    "\n",
    "ConteudoJson = json.loads(r.content)\n",
    "\n",
    "#print(ConteudoJson[\"dezenasSorteadasOrdemSorteio\"])\n",
    "\n",
    "Numero1 = ConteudoJson[\"listaDezenas\"][0]\n",
    "Numero2 = ConteudoJson[\"listaDezenas\"][1]\n",
    "Numero3 = ConteudoJson[\"listaDezenas\"][2]\n",
    "Numero4 = ConteudoJson[\"listaDezenas\"][3]\n",
    "Numero5 = ConteudoJson[\"listaDezenas\"][4]\n",
    "quina_5_acertos = ConteudoJson[\"listaRateioPremio\"][0]\n",
    "quina_4_acertos = ConteudoJson[\"listaRateioPremio\"][1]\n",
    "quina_3_acertos = ConteudoJson[\"listaRateioPremio\"][2]\n",
    "quina_2_acertos = ConteudoJson[\"listaRateioPremio\"][3]\n",
    "\n",
    "\n",
    "\n",
    "print(ConteudoJson[\"tipoJogo\"])\n",
    "print(('Números sorteados:'), Numero1, Numero2, Numero3, Numero4, Numero5)\n",
    "\n",
    "print(('Número do Jogo:'), ConteudoJson[\"numero\"])\n",
    "print(('Data do Jogo:'), ConteudoJson[\"dataApuracao\"])\n",
    "print(('Número de ganhadores 5 dezenas:'), quina_5_acertos[\"numeroDeGanhadores\"])\n",
    "print(('Valor do prêmio R$:'), quina_5_acertos[\"valorPremio\"])\n",
    "print(('Número de ganhadores 4 dezenas:'), quina_4_acertos[\"numeroDeGanhadores\"])\n",
    "print(('Valor do prêmio R$:'), quina_4_acertos[\"valorPremio\"])\n",
    "print(('Número de ganhadores 3 dezenas:'), quina_3_acertos[\"numeroDeGanhadores\"])\n",
    "print(('Valor do prêmio R$:'), quina_3_acertos[\"valorPremio\"])\n",
    "print(('Número de ganhadores 2 dezenas:'), quina_2_acertos[\"numeroDeGanhadores\"])\n",
    "print(('Valor do prêmio R$:'), quina_2_acertos[\"valorPremio\"])\n",
    "print(('Valor estimado para o próximo prêmio R$:'), ConteudoJson[\"valorEstimadoProximoConcurso\"])\n",
    "l1 = [Numero1, Numero2, Numero3, Numero4, Numero5]\n",
    "l2 = ['05', '10', '22', '57', '71']\n",
    "Qtd1 = len(set(l1) & set(l2))\n",
    "print(\"Dezenas que acertei no jogo da quina:\", set(l1) & set(l2))\n",
    "print(('Quantidade de dezenas acertadas no jogo da quina:'), Qtd1, ('Dezenas'))"
   ]
  }
 ],
 "metadata": {
  "kernelspec": {
   "display_name": "Python 3.10.6 64-bit",
   "language": "python",
   "name": "python3"
  },
  "language_info": {
   "codemirror_mode": {
    "name": "ipython",
    "version": 3
   },
   "file_extension": ".py",
   "mimetype": "text/x-python",
   "name": "python",
   "nbconvert_exporter": "python",
   "pygments_lexer": "ipython3",
   "version": "3.10.12"
  },
  "orig_nbformat": 4,
  "vscode": {
   "interpreter": {
    "hash": "916dbcbb3f70747c44a77c7bcd40155683ae19c65e1c03b4aa3499c5328201f1"
   }
  }
 },
 "nbformat": 4,
 "nbformat_minor": 2
}
